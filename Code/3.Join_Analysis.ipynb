{
 "cells": [
  {
   "cell_type": "markdown",
   "metadata": {},
   "source": [
    "# Multivariate analysis: Checking relationship between more than 1 variable.\n",
    "##### We want to figure out which are the values that contribute to the success of a movie.\n",
    "What we will try to test is the strength of the relationships of both budget and rating on gross, first on the whole dataset and then we will focus on the Animation movies."
   ]
  },
  {
   "cell_type": "code",
   "execution_count": 20,
   "metadata": {},
   "outputs": [],
   "source": [
    "#Import libraries we are going to use\n",
    "import pandas as pd\n",
    "import numpy as np\n",
    "import statsmodels.api as sm\n",
    "import re"
   ]
  },
  {
   "cell_type": "code",
   "execution_count": 28,
   "metadata": {},
   "outputs": [
    {
     "data": {
      "text/html": [
       "<div>\n",
       "<style scoped>\n",
       "    .dataframe tbody tr th:only-of-type {\n",
       "        vertical-align: middle;\n",
       "    }\n",
       "\n",
       "    .dataframe tbody tr th {\n",
       "        vertical-align: top;\n",
       "    }\n",
       "\n",
       "    .dataframe thead th {\n",
       "        text-align: right;\n",
       "    }\n",
       "</style>\n",
       "<table border=\"1\" class=\"dataframe\">\n",
       "  <thead>\n",
       "    <tr style=\"text-align: right;\">\n",
       "      <th></th>\n",
       "      <th>budget</th>\n",
       "      <th>company</th>\n",
       "      <th>genre</th>\n",
       "      <th>gross</th>\n",
       "      <th>name</th>\n",
       "      <th>score</th>\n",
       "      <th>votes</th>\n",
       "      <th>year</th>\n",
       "    </tr>\n",
       "  </thead>\n",
       "  <tbody>\n",
       "    <tr>\n",
       "      <th>0</th>\n",
       "      <td>8000000.0</td>\n",
       "      <td>Columbia Pictures Corporation</td>\n",
       "      <td>Adventure</td>\n",
       "      <td>52287414.0</td>\n",
       "      <td>Stand by Me</td>\n",
       "      <td>8.1</td>\n",
       "      <td>299174</td>\n",
       "      <td>1986</td>\n",
       "    </tr>\n",
       "    <tr>\n",
       "      <th>1</th>\n",
       "      <td>6000000.0</td>\n",
       "      <td>Paramount Pictures</td>\n",
       "      <td>Comedy</td>\n",
       "      <td>70136369.0</td>\n",
       "      <td>Ferris Bueller's Day Off</td>\n",
       "      <td>7.8</td>\n",
       "      <td>264740</td>\n",
       "      <td>1986</td>\n",
       "    </tr>\n",
       "    <tr>\n",
       "      <th>2</th>\n",
       "      <td>15000000.0</td>\n",
       "      <td>Paramount Pictures</td>\n",
       "      <td>Action</td>\n",
       "      <td>179800601.0</td>\n",
       "      <td>Top Gun</td>\n",
       "      <td>6.9</td>\n",
       "      <td>236909</td>\n",
       "      <td>1986</td>\n",
       "    </tr>\n",
       "    <tr>\n",
       "      <th>3</th>\n",
       "      <td>18500000.0</td>\n",
       "      <td>Twentieth Century Fox Film Corporation</td>\n",
       "      <td>Action</td>\n",
       "      <td>85160248.0</td>\n",
       "      <td>Aliens</td>\n",
       "      <td>8.4</td>\n",
       "      <td>540152</td>\n",
       "      <td>1986</td>\n",
       "    </tr>\n",
       "    <tr>\n",
       "      <th>4</th>\n",
       "      <td>9000000.0</td>\n",
       "      <td>Walt Disney Pictures</td>\n",
       "      <td>Adventure</td>\n",
       "      <td>18564613.0</td>\n",
       "      <td>Flight of the Navigator</td>\n",
       "      <td>6.9</td>\n",
       "      <td>36636</td>\n",
       "      <td>1986</td>\n",
       "    </tr>\n",
       "  </tbody>\n",
       "</table>\n",
       "</div>"
      ],
      "text/plain": [
       "       budget                                 company      genre        gross  \\\n",
       "0   8000000.0           Columbia Pictures Corporation  Adventure   52287414.0   \n",
       "1   6000000.0                      Paramount Pictures     Comedy   70136369.0   \n",
       "2  15000000.0                      Paramount Pictures     Action  179800601.0   \n",
       "3  18500000.0  Twentieth Century Fox Film Corporation     Action   85160248.0   \n",
       "4   9000000.0                    Walt Disney Pictures  Adventure   18564613.0   \n",
       "\n",
       "                       name  score   votes  year  \n",
       "0               Stand by Me    8.1  299174  1986  \n",
       "1  Ferris Bueller's Day Off    7.8  264740  1986  \n",
       "2                   Top Gun    6.9  236909  1986  \n",
       "3                    Aliens    8.4  540152  1986  \n",
       "4   Flight of the Navigator    6.9   36636  1986  "
      ]
     },
     "execution_count": 28,
     "metadata": {},
     "output_type": "execute_result"
    }
   ],
   "source": [
    "movie = pd.read_csv('../Database/Clean/movie_clean.csv', sep = ',', index_col = 0)\n",
    "movie.head()"
   ]
  },
  {
   "cell_type": "markdown",
   "metadata": {},
   "source": [
    "We have decided to create a new dataframe of only those columns that we will be using, to avoid problems afterwards with OLS regression line model."
   ]
  },
  {
   "cell_type": "code",
   "execution_count": 29,
   "metadata": {},
   "outputs": [],
   "source": [
    "movie1 = movie[['budget', 'company', 'genre', 'gross', 'name', 'score', 'year']]"
   ]
  },
  {
   "cell_type": "markdown",
   "metadata": {},
   "source": [
    "We apply the OLS model."
   ]
  },
  {
   "cell_type": "code",
   "execution_count": 36,
   "metadata": {},
   "outputs": [
    {
     "name": "stdout",
     "output_type": "stream",
     "text": [
      "                            OLS Regression Results                            \n",
      "==============================================================================\n",
      "Dep. Variable:                  gross   R-squared:                       0.525\n",
      "Model:                            OLS   Adj. R-squared:                  0.525\n",
      "Method:                 Least Squares   F-statistic:                     3768.\n",
      "Date:                Mon, 25 Nov 2019   Prob (F-statistic):               0.00\n",
      "Time:                        17:14:24   Log-Likelihood:            -1.2883e+05\n",
      "No. Observations:                6807   AIC:                         2.577e+05\n",
      "Df Residuals:                    6804   BIC:                         2.577e+05\n",
      "Df Model:                           2                                         \n",
      "Covariance Type:            nonrobust                                         \n",
      "==============================================================================\n",
      "                 coef    std err          t      P>|t|      [0.025      0.975]\n",
      "------------------------------------------------------------------------------\n",
      "const      -4.413e+07   3.13e+06    -14.083      0.000   -5.03e+07    -3.8e+07\n",
      "budget         1.1102      0.013     84.493      0.000       1.084       1.136\n",
      "score         7.9e+06   4.85e+05     16.281      0.000    6.95e+06    8.85e+06\n",
      "==============================================================================\n",
      "Omnibus:                     5230.613   Durbin-Watson:                   1.829\n",
      "Prob(Omnibus):                  0.000   Jarque-Bera (JB):           244175.010\n",
      "Skew:                           3.252   Prob(JB):                         0.00\n",
      "Kurtosis:                      31.611   Cond. No.                     2.90e+08\n",
      "==============================================================================\n",
      "\n",
      "Warnings:\n",
      "[1] Standard Errors assume that the covariance matrix of the errors is correctly specified.\n",
      "[2] The condition number is large, 2.9e+08. This might indicate that there are\n",
      "strong multicollinearity or other numerical problems.\n"
     ]
    }
   ],
   "source": [
    "parts = ['budget', 'score']\n",
    "all_parts = movie1.columns\n",
    "Y = movie1.gross\n",
    "X = sm.add_constant(movie1[parts])\n",
    "\n",
    "model = sm.OLS(Y,X)\n",
    "\n",
    "results = model.fit()\n",
    "print(results.summary())"
   ]
  },
  {
   "cell_type": "markdown",
   "metadata": {},
   "source": [
    "###### Even though our model only explains 52% of the data, we can see that there is a positive relationship between budget and score with gross."
   ]
  },
  {
   "cell_type": "markdown",
   "metadata": {},
   "source": [
    "Let's now focus on Animation movies."
   ]
  },
  {
   "cell_type": "code",
   "execution_count": 34,
   "metadata": {},
   "outputs": [],
   "source": [
    "movie2 = movie1[movie1['genre']=='Animation']"
   ]
  },
  {
   "cell_type": "code",
   "execution_count": 37,
   "metadata": {
    "scrolled": true
   },
   "outputs": [
    {
     "name": "stdout",
     "output_type": "stream",
     "text": [
      "                            OLS Regression Results                            \n",
      "==============================================================================\n",
      "Dep. Variable:                  gross   R-squared:                       0.500\n",
      "Model:                            OLS   Adj. R-squared:                  0.497\n",
      "Method:                 Least Squares   F-statistic:                     137.1\n",
      "Date:                Mon, 25 Nov 2019   Prob (F-statistic):           5.49e-42\n",
      "Time:                        17:20:13   Log-Likelihood:                -5390.5\n",
      "No. Observations:                 277   AIC:                         1.079e+04\n",
      "Df Residuals:                     274   BIC:                         1.080e+04\n",
      "Df Model:                           2                                         \n",
      "Covariance Type:            nonrobust                                         \n",
      "==============================================================================\n",
      "                 coef    std err          t      P>|t|      [0.025      0.975]\n",
      "------------------------------------------------------------------------------\n",
      "const      -1.092e+08   3.05e+07     -3.578      0.000   -1.69e+08   -4.91e+07\n",
      "budget         1.1549      0.074     15.659      0.000       1.010       1.300\n",
      "score       1.874e+07   4.48e+06      4.181      0.000    9.91e+06    2.76e+07\n",
      "==============================================================================\n",
      "Omnibus:                       76.104   Durbin-Watson:                   2.165\n",
      "Prob(Omnibus):                  0.000   Jarque-Bera (JB):              167.787\n",
      "Skew:                           1.344   Prob(JB):                     3.68e-37\n",
      "Kurtosis:                       5.705   Cond. No.                     6.37e+08\n",
      "==============================================================================\n",
      "\n",
      "Warnings:\n",
      "[1] Standard Errors assume that the covariance matrix of the errors is correctly specified.\n",
      "[2] The condition number is large, 6.37e+08. This might indicate that there are\n",
      "strong multicollinearity or other numerical problems.\n"
     ]
    }
   ],
   "source": [
    "parts = ['budget', 'score']\n",
    "all_parts = movie2.columns\n",
    "Y = movie2.gross\n",
    "X = sm.add_constant(movie2[parts])\n",
    "\n",
    "model = sm.OLS(Y,X)\n",
    "\n",
    "results = model.fit()\n",
    "print(results.summary())"
   ]
  },
  {
   "cell_type": "markdown",
   "metadata": {},
   "source": [
    "###### There is a stronger relationship between budget and score with gross income."
   ]
  },
  {
   "cell_type": "code",
   "execution_count": 52,
   "metadata": {},
   "outputs": [],
   "source": [
    "movie_princess= pd.read_csv('../Database/Clean/movies_90_all_and_princess.csv',sep = ';', index_col = 0)"
   ]
  },
  {
   "cell_type": "code",
   "execution_count": 53,
   "metadata": {},
   "outputs": [],
   "source": [
    "movie_princess2 = movie_princess.query('Disney_princess == \"Princess\"')"
   ]
  },
  {
   "cell_type": "code",
   "execution_count": 54,
   "metadata": {},
   "outputs": [
    {
     "data": {
      "text/plain": [
       "budget     0\n",
       "company    0\n",
       "genre      0\n",
       "gross      0\n",
       "name       0\n",
       "score      0\n",
       "year       0\n",
       "dtype: int64"
      ]
     },
     "execution_count": 54,
     "metadata": {},
     "output_type": "execute_result"
    }
   ],
   "source": [
    "movie_princess2 = movie_princess2[['budget', 'company', 'genre', 'gross', 'name', 'score', 'year']]\n",
    "movie_princess2.isnull().sum()"
   ]
  },
  {
   "cell_type": "code",
   "execution_count": 55,
   "metadata": {},
   "outputs": [
    {
     "name": "stdout",
     "output_type": "stream",
     "text": [
      "                            OLS Regression Results                            \n",
      "==============================================================================\n",
      "Dep. Variable:                  gross   R-squared:                       0.239\n",
      "Model:                            OLS   Adj. R-squared:                 -0.015\n",
      "Method:                 Least Squares   F-statistic:                    0.9421\n",
      "Date:                Tue, 26 Nov 2019   Prob (F-statistic):              0.441\n",
      "Time:                        17:13:11   Log-Likelihood:                -176.00\n",
      "No. Observations:                   9   AIC:                             358.0\n",
      "Df Residuals:                       6   BIC:                             358.6\n",
      "Df Model:                           2                                         \n",
      "Covariance Type:            nonrobust                                         \n",
      "==============================================================================\n",
      "                 coef    std err          t      P>|t|      [0.025      0.975]\n",
      "------------------------------------------------------------------------------\n",
      "const       -4.54e+08   5.53e+08     -0.821      0.443   -1.81e+09    8.99e+08\n",
      "budget         0.3242      0.418      0.776      0.467      -0.698       1.347\n",
      "score       8.371e+07   7.37e+07      1.136      0.299   -9.67e+07    2.64e+08\n",
      "==============================================================================\n",
      "Omnibus:                        6.618   Durbin-Watson:                   1.524\n",
      "Prob(Omnibus):                  0.037   Jarque-Bera (JB):                2.210\n",
      "Skew:                           1.132   Prob(JB):                        0.331\n",
      "Kurtosis:                       3.874   Cond. No.                     2.49e+09\n",
      "==============================================================================\n",
      "\n",
      "Warnings:\n",
      "[1] Standard Errors assume that the covariance matrix of the errors is correctly specified.\n",
      "[2] The condition number is large, 2.49e+09. This might indicate that there are\n",
      "strong multicollinearity or other numerical problems.\n"
     ]
    },
    {
     "name": "stderr",
     "output_type": "stream",
     "text": [
      "/usr/local/lib/python3.7/site-packages/scipy/stats/stats.py:1450: UserWarning: kurtosistest only valid for n>=20 ... continuing anyway, n=9\n",
      "  \"anyway, n=%i\" % int(n))\n"
     ]
    }
   ],
   "source": [
    "parts = ['budget', 'score']\n",
    "all_parts = movie_princess2.columns\n",
    "Y = movie_princess2.gross\n",
    "X = sm.add_constant(movie_princess2[parts])\n",
    "\n",
    "model = sm.OLS(Y,X)\n",
    "\n",
    "results = model.fit()\n",
    "print(results.summary())"
   ]
  },
  {
   "cell_type": "code",
   "execution_count": null,
   "metadata": {},
   "outputs": [],
   "source": []
  },
  {
   "cell_type": "code",
   "execution_count": null,
   "metadata": {},
   "outputs": [],
   "source": []
  }
 ],
 "metadata": {
  "kernelspec": {
   "display_name": "Python 3",
   "language": "python",
   "name": "python3"
  },
  "language_info": {
   "codemirror_mode": {
    "name": "ipython",
    "version": 3
   },
   "file_extension": ".py",
   "mimetype": "text/x-python",
   "name": "python",
   "nbconvert_exporter": "python",
   "pygments_lexer": "ipython3",
   "version": "3.7.3"
  }
 },
 "nbformat": 4,
 "nbformat_minor": 2
}
