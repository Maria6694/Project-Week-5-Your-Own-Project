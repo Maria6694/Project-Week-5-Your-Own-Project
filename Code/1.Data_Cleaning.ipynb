{
 "cells": [
  {
   "cell_type": "markdown",
   "metadata": {},
   "source": [
    "# Data Cleaning of Datasets\n",
    "In this file you will find the process of Data Cleaning of the datasets. In total there are __ (number of datasets) of datasets."
   ]
  },
  {
   "cell_type": "markdown",
   "metadata": {},
   "source": [
    "### ***File: movies.csv***"
   ]
  },
  {
   "cell_type": "code",
   "execution_count": 38,
   "metadata": {},
   "outputs": [],
   "source": [
    "#Import libraries needed for data cleaning.\n",
    "import pandas as pd\n",
    "import numpy as np"
   ]
  },
  {
   "cell_type": "code",
   "execution_count": 43,
   "metadata": {},
   "outputs": [],
   "source": [
    "#movie1 is movies.csv\n",
    "movie1 = pd.read_csv('../Database/movies.csv', sep = ';', encoding='latin-1')"
   ]
  },
  {
   "cell_type": "code",
   "execution_count": 44,
   "metadata": {},
   "outputs": [
    {
     "data": {
      "text/html": [
       "<div>\n",
       "<style scoped>\n",
       "    .dataframe tbody tr th:only-of-type {\n",
       "        vertical-align: middle;\n",
       "    }\n",
       "\n",
       "    .dataframe tbody tr th {\n",
       "        vertical-align: top;\n",
       "    }\n",
       "\n",
       "    .dataframe thead th {\n",
       "        text-align: right;\n",
       "    }\n",
       "</style>\n",
       "<table border=\"1\" class=\"dataframe\">\n",
       "  <thead>\n",
       "    <tr style=\"text-align: right;\">\n",
       "      <th></th>\n",
       "      <th>budget</th>\n",
       "      <th>company</th>\n",
       "      <th>country</th>\n",
       "      <th>director</th>\n",
       "      <th>genre</th>\n",
       "      <th>gross</th>\n",
       "      <th>name</th>\n",
       "      <th>rating</th>\n",
       "      <th>released</th>\n",
       "      <th>runtime</th>\n",
       "      <th>score</th>\n",
       "      <th>star</th>\n",
       "      <th>votes</th>\n",
       "      <th>writer</th>\n",
       "      <th>year</th>\n",
       "    </tr>\n",
       "  </thead>\n",
       "  <tbody>\n",
       "    <tr>\n",
       "      <th>0</th>\n",
       "      <td>8000000.0</td>\n",
       "      <td>Columbia Pictures Corporation</td>\n",
       "      <td>USA</td>\n",
       "      <td>Rob Reiner</td>\n",
       "      <td>Adventure</td>\n",
       "      <td>52287414.0</td>\n",
       "      <td>Stand by Me</td>\n",
       "      <td>R</td>\n",
       "      <td>22/8/86</td>\n",
       "      <td>89</td>\n",
       "      <td>8.1</td>\n",
       "      <td>Wil Wheaton</td>\n",
       "      <td>299174</td>\n",
       "      <td>Stephen King</td>\n",
       "      <td>1986</td>\n",
       "    </tr>\n",
       "    <tr>\n",
       "      <th>1</th>\n",
       "      <td>6000000.0</td>\n",
       "      <td>Paramount Pictures</td>\n",
       "      <td>USA</td>\n",
       "      <td>John Hughes</td>\n",
       "      <td>Comedy</td>\n",
       "      <td>70136369.0</td>\n",
       "      <td>Ferris Bueller's Day Off</td>\n",
       "      <td>PG-13</td>\n",
       "      <td>11/6/86</td>\n",
       "      <td>103</td>\n",
       "      <td>7.8</td>\n",
       "      <td>Matthew Broderick</td>\n",
       "      <td>264740</td>\n",
       "      <td>John Hughes</td>\n",
       "      <td>1986</td>\n",
       "    </tr>\n",
       "    <tr>\n",
       "      <th>2</th>\n",
       "      <td>15000000.0</td>\n",
       "      <td>Paramount Pictures</td>\n",
       "      <td>USA</td>\n",
       "      <td>Tony Scott</td>\n",
       "      <td>Action</td>\n",
       "      <td>179800601.0</td>\n",
       "      <td>Top Gun</td>\n",
       "      <td>PG</td>\n",
       "      <td>16/5/86</td>\n",
       "      <td>110</td>\n",
       "      <td>6.9</td>\n",
       "      <td>Tom Cruise</td>\n",
       "      <td>236909</td>\n",
       "      <td>Jim Cash</td>\n",
       "      <td>1986</td>\n",
       "    </tr>\n",
       "    <tr>\n",
       "      <th>3</th>\n",
       "      <td>18500000.0</td>\n",
       "      <td>Twentieth Century Fox Film Corporation</td>\n",
       "      <td>USA</td>\n",
       "      <td>James Cameron</td>\n",
       "      <td>Action</td>\n",
       "      <td>85160248.0</td>\n",
       "      <td>Aliens</td>\n",
       "      <td>R</td>\n",
       "      <td>18/7/86</td>\n",
       "      <td>137</td>\n",
       "      <td>8.4</td>\n",
       "      <td>Sigourney Weaver</td>\n",
       "      <td>540152</td>\n",
       "      <td>James Cameron</td>\n",
       "      <td>1986</td>\n",
       "    </tr>\n",
       "    <tr>\n",
       "      <th>4</th>\n",
       "      <td>9000000.0</td>\n",
       "      <td>Walt Disney Pictures</td>\n",
       "      <td>USA</td>\n",
       "      <td>Randal Kleiser</td>\n",
       "      <td>Adventure</td>\n",
       "      <td>18564613.0</td>\n",
       "      <td>Flight of the Navigator</td>\n",
       "      <td>PG</td>\n",
       "      <td>1/8/86</td>\n",
       "      <td>90</td>\n",
       "      <td>6.9</td>\n",
       "      <td>Joey Cramer</td>\n",
       "      <td>36636</td>\n",
       "      <td>Mark H. Baker</td>\n",
       "      <td>1986</td>\n",
       "    </tr>\n",
       "  </tbody>\n",
       "</table>\n",
       "</div>"
      ],
      "text/plain": [
       "       budget                                 company country        director  \\\n",
       "0   8000000.0           Columbia Pictures Corporation     USA      Rob Reiner   \n",
       "1   6000000.0                      Paramount Pictures     USA     John Hughes   \n",
       "2  15000000.0                      Paramount Pictures     USA      Tony Scott   \n",
       "3  18500000.0  Twentieth Century Fox Film Corporation     USA   James Cameron   \n",
       "4   9000000.0                    Walt Disney Pictures     USA  Randal Kleiser   \n",
       "\n",
       "       genre        gross                      name rating released  runtime  \\\n",
       "0  Adventure   52287414.0               Stand by Me      R  22/8/86       89   \n",
       "1     Comedy   70136369.0  Ferris Bueller's Day Off  PG-13  11/6/86      103   \n",
       "2     Action  179800601.0                   Top Gun     PG  16/5/86      110   \n",
       "3     Action   85160248.0                    Aliens      R  18/7/86      137   \n",
       "4  Adventure   18564613.0   Flight of the Navigator     PG   1/8/86       90   \n",
       "\n",
       "   score               star   votes         writer  year  \n",
       "0    8.1        Wil Wheaton  299174   Stephen King  1986  \n",
       "1    7.8  Matthew Broderick  264740    John Hughes  1986  \n",
       "2    6.9         Tom Cruise  236909       Jim Cash  1986  \n",
       "3    8.4   Sigourney Weaver  540152  James Cameron  1986  \n",
       "4    6.9        Joey Cramer   36636  Mark H. Baker  1986  "
      ]
     },
     "execution_count": 44,
     "metadata": {},
     "output_type": "execute_result"
    }
   ],
   "source": [
    "#Explored Data\n",
    "movie1.head()"
   ]
  },
  {
   "cell_type": "markdown",
   "metadata": {},
   "source": [
    "### Let's start with Data Cleaning..."
   ]
  },
  {
   "cell_type": "markdown",
   "metadata": {},
   "source": [
    "#### 1st step: Check data types, correct them, check for nulls and change column names, if needed."
   ]
  },
  {
   "cell_type": "code",
   "execution_count": 45,
   "metadata": {},
   "outputs": [
    {
     "data": {
      "text/plain": [
       "budget      float64\n",
       "company      object\n",
       "country      object\n",
       "director     object\n",
       "genre        object\n",
       "gross       float64\n",
       "name         object\n",
       "rating       object\n",
       "released     object\n",
       "runtime       int64\n",
       "score       float64\n",
       "star         object\n",
       "votes         int64\n",
       "writer       object\n",
       "year          int64\n",
       "dtype: object"
      ]
     },
     "execution_count": 45,
     "metadata": {},
     "output_type": "execute_result"
    }
   ],
   "source": [
    "movie1.dtypes #Checking data types."
   ]
  },
  {
   "cell_type": "markdown",
   "metadata": {},
   "source": [
    "After checking data types, we can see that DataTypes are correct, no need to change them."
   ]
  },
  {
   "cell_type": "code",
   "execution_count": 46,
   "metadata": {},
   "outputs": [
    {
     "data": {
      "text/plain": [
       "0"
      ]
     },
     "execution_count": 46,
     "metadata": {},
     "output_type": "execute_result"
    }
   ],
   "source": [
    "movie1.isnull().sum().sum() #Check overall amount of null values"
   ]
  },
  {
   "cell_type": "markdown",
   "metadata": {},
   "source": [
    "No nulls in dataset"
   ]
  },
  {
   "cell_type": "code",
   "execution_count": 47,
   "metadata": {},
   "outputs": [
    {
     "data": {
      "text/plain": [
       "Index(['budget', 'company', 'country', 'director', 'genre', 'gross', 'name',\n",
       "       'rating', 'released', 'runtime', 'score', 'star', 'votes', 'writer',\n",
       "       'year'],\n",
       "      dtype='object')"
      ]
     },
     "execution_count": 47,
     "metadata": {},
     "output_type": "execute_result"
    }
   ],
   "source": [
    "movie1.columns #Checking column names"
   ]
  },
  {
   "cell_type": "markdown",
   "metadata": {},
   "source": [
    "Column names are correct and descriptive so we don't have to change them."
   ]
  },
  {
   "cell_type": "markdown",
   "metadata": {},
   "source": [
    "#### 2nd step: Drop columns that are not going to be used"
   ]
  },
  {
   "cell_type": "markdown",
   "metadata": {},
   "source": [
    "We won't be using runtime, star, writer, country, director, released and rating"
   ]
  },
  {
   "cell_type": "code",
   "execution_count": 48,
   "metadata": {},
   "outputs": [],
   "source": [
    "movie1.drop(columns = ['country', 'director', 'rating', 'released', 'runtime', 'star', 'writer'], inplace = True)\n",
    "#Columns deleted"
   ]
  },
  {
   "cell_type": "code",
   "execution_count": 49,
   "metadata": {},
   "outputs": [
    {
     "data": {
      "text/html": [
       "<div>\n",
       "<style scoped>\n",
       "    .dataframe tbody tr th:only-of-type {\n",
       "        vertical-align: middle;\n",
       "    }\n",
       "\n",
       "    .dataframe tbody tr th {\n",
       "        vertical-align: top;\n",
       "    }\n",
       "\n",
       "    .dataframe thead th {\n",
       "        text-align: right;\n",
       "    }\n",
       "</style>\n",
       "<table border=\"1\" class=\"dataframe\">\n",
       "  <thead>\n",
       "    <tr style=\"text-align: right;\">\n",
       "      <th></th>\n",
       "      <th>budget</th>\n",
       "      <th>company</th>\n",
       "      <th>genre</th>\n",
       "      <th>gross</th>\n",
       "      <th>name</th>\n",
       "      <th>score</th>\n",
       "      <th>votes</th>\n",
       "      <th>year</th>\n",
       "    </tr>\n",
       "  </thead>\n",
       "  <tbody>\n",
       "    <tr>\n",
       "      <th>0</th>\n",
       "      <td>8000000.0</td>\n",
       "      <td>Columbia Pictures Corporation</td>\n",
       "      <td>Adventure</td>\n",
       "      <td>52287414.0</td>\n",
       "      <td>Stand by Me</td>\n",
       "      <td>8.1</td>\n",
       "      <td>299174</td>\n",
       "      <td>1986</td>\n",
       "    </tr>\n",
       "    <tr>\n",
       "      <th>1</th>\n",
       "      <td>6000000.0</td>\n",
       "      <td>Paramount Pictures</td>\n",
       "      <td>Comedy</td>\n",
       "      <td>70136369.0</td>\n",
       "      <td>Ferris Bueller's Day Off</td>\n",
       "      <td>7.8</td>\n",
       "      <td>264740</td>\n",
       "      <td>1986</td>\n",
       "    </tr>\n",
       "    <tr>\n",
       "      <th>2</th>\n",
       "      <td>15000000.0</td>\n",
       "      <td>Paramount Pictures</td>\n",
       "      <td>Action</td>\n",
       "      <td>179800601.0</td>\n",
       "      <td>Top Gun</td>\n",
       "      <td>6.9</td>\n",
       "      <td>236909</td>\n",
       "      <td>1986</td>\n",
       "    </tr>\n",
       "    <tr>\n",
       "      <th>3</th>\n",
       "      <td>18500000.0</td>\n",
       "      <td>Twentieth Century Fox Film Corporation</td>\n",
       "      <td>Action</td>\n",
       "      <td>85160248.0</td>\n",
       "      <td>Aliens</td>\n",
       "      <td>8.4</td>\n",
       "      <td>540152</td>\n",
       "      <td>1986</td>\n",
       "    </tr>\n",
       "    <tr>\n",
       "      <th>4</th>\n",
       "      <td>9000000.0</td>\n",
       "      <td>Walt Disney Pictures</td>\n",
       "      <td>Adventure</td>\n",
       "      <td>18564613.0</td>\n",
       "      <td>Flight of the Navigator</td>\n",
       "      <td>6.9</td>\n",
       "      <td>36636</td>\n",
       "      <td>1986</td>\n",
       "    </tr>\n",
       "  </tbody>\n",
       "</table>\n",
       "</div>"
      ],
      "text/plain": [
       "       budget                                 company      genre        gross  \\\n",
       "0   8000000.0           Columbia Pictures Corporation  Adventure   52287414.0   \n",
       "1   6000000.0                      Paramount Pictures     Comedy   70136369.0   \n",
       "2  15000000.0                      Paramount Pictures     Action  179800601.0   \n",
       "3  18500000.0  Twentieth Century Fox Film Corporation     Action   85160248.0   \n",
       "4   9000000.0                    Walt Disney Pictures  Adventure   18564613.0   \n",
       "\n",
       "                       name  score   votes  year  \n",
       "0               Stand by Me    8.1  299174  1986  \n",
       "1  Ferris Bueller's Day Off    7.8  264740  1986  \n",
       "2                   Top Gun    6.9  236909  1986  \n",
       "3                    Aliens    8.4  540152  1986  \n",
       "4   Flight of the Navigator    6.9   36636  1986  "
      ]
     },
     "execution_count": 49,
     "metadata": {},
     "output_type": "execute_result"
    }
   ],
   "source": [
    "movie1.head()"
   ]
  },
  {
   "cell_type": "markdown",
   "metadata": {},
   "source": [
    "Organizing of the columns"
   ]
  },
  {
   "cell_type": "code",
   "execution_count": 50,
   "metadata": {},
   "outputs": [
    {
     "data": {
      "text/html": [
       "<div>\n",
       "<style scoped>\n",
       "    .dataframe tbody tr th:only-of-type {\n",
       "        vertical-align: middle;\n",
       "    }\n",
       "\n",
       "    .dataframe tbody tr th {\n",
       "        vertical-align: top;\n",
       "    }\n",
       "\n",
       "    .dataframe thead th {\n",
       "        text-align: right;\n",
       "    }\n",
       "</style>\n",
       "<table border=\"1\" class=\"dataframe\">\n",
       "  <thead>\n",
       "    <tr style=\"text-align: right;\">\n",
       "      <th></th>\n",
       "      <th>name</th>\n",
       "      <th>company</th>\n",
       "      <th>year</th>\n",
       "      <th>genre</th>\n",
       "      <th>votes</th>\n",
       "      <th>score</th>\n",
       "      <th>budget</th>\n",
       "      <th>gross</th>\n",
       "    </tr>\n",
       "  </thead>\n",
       "  <tbody>\n",
       "    <tr>\n",
       "      <th>0</th>\n",
       "      <td>Stand by Me</td>\n",
       "      <td>Columbia Pictures Corporation</td>\n",
       "      <td>1986</td>\n",
       "      <td>Adventure</td>\n",
       "      <td>299174</td>\n",
       "      <td>8.1</td>\n",
       "      <td>8000000.0</td>\n",
       "      <td>52287414.0</td>\n",
       "    </tr>\n",
       "    <tr>\n",
       "      <th>1</th>\n",
       "      <td>Ferris Bueller's Day Off</td>\n",
       "      <td>Paramount Pictures</td>\n",
       "      <td>1986</td>\n",
       "      <td>Comedy</td>\n",
       "      <td>264740</td>\n",
       "      <td>7.8</td>\n",
       "      <td>6000000.0</td>\n",
       "      <td>70136369.0</td>\n",
       "    </tr>\n",
       "    <tr>\n",
       "      <th>2</th>\n",
       "      <td>Top Gun</td>\n",
       "      <td>Paramount Pictures</td>\n",
       "      <td>1986</td>\n",
       "      <td>Action</td>\n",
       "      <td>236909</td>\n",
       "      <td>6.9</td>\n",
       "      <td>15000000.0</td>\n",
       "      <td>179800601.0</td>\n",
       "    </tr>\n",
       "    <tr>\n",
       "      <th>3</th>\n",
       "      <td>Aliens</td>\n",
       "      <td>Twentieth Century Fox Film Corporation</td>\n",
       "      <td>1986</td>\n",
       "      <td>Action</td>\n",
       "      <td>540152</td>\n",
       "      <td>8.4</td>\n",
       "      <td>18500000.0</td>\n",
       "      <td>85160248.0</td>\n",
       "    </tr>\n",
       "    <tr>\n",
       "      <th>4</th>\n",
       "      <td>Flight of the Navigator</td>\n",
       "      <td>Walt Disney Pictures</td>\n",
       "      <td>1986</td>\n",
       "      <td>Adventure</td>\n",
       "      <td>36636</td>\n",
       "      <td>6.9</td>\n",
       "      <td>9000000.0</td>\n",
       "      <td>18564613.0</td>\n",
       "    </tr>\n",
       "    <tr>\n",
       "      <th>...</th>\n",
       "      <td>...</td>\n",
       "      <td>...</td>\n",
       "      <td>...</td>\n",
       "      <td>...</td>\n",
       "      <td>...</td>\n",
       "      <td>...</td>\n",
       "      <td>...</td>\n",
       "      <td>...</td>\n",
       "    </tr>\n",
       "    <tr>\n",
       "      <th>6802</th>\n",
       "      <td>Absolutely Fabulous: The Movie</td>\n",
       "      <td>Fox Searchlight Pictures</td>\n",
       "      <td>2016</td>\n",
       "      <td>Comedy</td>\n",
       "      <td>9161</td>\n",
       "      <td>5.4</td>\n",
       "      <td>0.0</td>\n",
       "      <td>4750497.0</td>\n",
       "    </tr>\n",
       "    <tr>\n",
       "      <th>6803</th>\n",
       "      <td>Mothers and Daughters</td>\n",
       "      <td>Siempre Viva Productions</td>\n",
       "      <td>2016</td>\n",
       "      <td>Drama</td>\n",
       "      <td>1959</td>\n",
       "      <td>4.9</td>\n",
       "      <td>0.0</td>\n",
       "      <td>28368.0</td>\n",
       "    </tr>\n",
       "    <tr>\n",
       "      <th>6804</th>\n",
       "      <td>Batman: The Killing Joke</td>\n",
       "      <td>Warner Bros. Animation</td>\n",
       "      <td>2016</td>\n",
       "      <td>Animation</td>\n",
       "      <td>36333</td>\n",
       "      <td>6.5</td>\n",
       "      <td>3500000.0</td>\n",
       "      <td>3775000.0</td>\n",
       "    </tr>\n",
       "    <tr>\n",
       "      <th>6805</th>\n",
       "      <td>The Eyes of My Mother</td>\n",
       "      <td>Borderline Presents</td>\n",
       "      <td>2016</td>\n",
       "      <td>Drama</td>\n",
       "      <td>6947</td>\n",
       "      <td>6.2</td>\n",
       "      <td>0.0</td>\n",
       "      <td>25981.0</td>\n",
       "    </tr>\n",
       "    <tr>\n",
       "      <th>6806</th>\n",
       "      <td>From the Land of the Moon</td>\n",
       "      <td>Les Productions du Trésor</td>\n",
       "      <td>2016</td>\n",
       "      <td>Drama</td>\n",
       "      <td>2411</td>\n",
       "      <td>6.7</td>\n",
       "      <td>0.0</td>\n",
       "      <td>37757.0</td>\n",
       "    </tr>\n",
       "  </tbody>\n",
       "</table>\n",
       "<p>6807 rows × 8 columns</p>\n",
       "</div>"
      ],
      "text/plain": [
       "                                name                                 company  \\\n",
       "0                        Stand by Me           Columbia Pictures Corporation   \n",
       "1           Ferris Bueller's Day Off                      Paramount Pictures   \n",
       "2                            Top Gun                      Paramount Pictures   \n",
       "3                             Aliens  Twentieth Century Fox Film Corporation   \n",
       "4            Flight of the Navigator                    Walt Disney Pictures   \n",
       "...                              ...                                     ...   \n",
       "6802  Absolutely Fabulous: The Movie                Fox Searchlight Pictures   \n",
       "6803           Mothers and Daughters                Siempre Viva Productions   \n",
       "6804        Batman: The Killing Joke                  Warner Bros. Animation   \n",
       "6805           The Eyes of My Mother                     Borderline Presents   \n",
       "6806       From the Land of the Moon               Les Productions du Trésor   \n",
       "\n",
       "      year      genre   votes  score      budget        gross  \n",
       "0     1986  Adventure  299174    8.1   8000000.0   52287414.0  \n",
       "1     1986     Comedy  264740    7.8   6000000.0   70136369.0  \n",
       "2     1986     Action  236909    6.9  15000000.0  179800601.0  \n",
       "3     1986     Action  540152    8.4  18500000.0   85160248.0  \n",
       "4     1986  Adventure   36636    6.9   9000000.0   18564613.0  \n",
       "...    ...        ...     ...    ...         ...          ...  \n",
       "6802  2016     Comedy    9161    5.4         0.0    4750497.0  \n",
       "6803  2016      Drama    1959    4.9         0.0      28368.0  \n",
       "6804  2016  Animation   36333    6.5   3500000.0    3775000.0  \n",
       "6805  2016      Drama    6947    6.2         0.0      25981.0  \n",
       "6806  2016      Drama    2411    6.7         0.0      37757.0  \n",
       "\n",
       "[6807 rows x 8 columns]"
      ]
     },
     "execution_count": 50,
     "metadata": {},
     "output_type": "execute_result"
    }
   ],
   "source": [
    "movie1[['name', 'company', 'year', 'genre', 'votes', 'score', 'budget', 'gross']]"
   ]
  },
  {
   "cell_type": "code",
   "execution_count": 51,
   "metadata": {},
   "outputs": [],
   "source": [
    "movie1.to_csv('../Database/Clean/movie_clean.csv') #Saving in a csv file to proceed to the analysis part."
   ]
  }
 ],
 "metadata": {
  "kernelspec": {
   "display_name": "Python 3",
   "language": "python",
   "name": "python3"
  },
  "language_info": {
   "codemirror_mode": {
    "name": "ipython",
    "version": 3
   },
   "file_extension": ".py",
   "mimetype": "text/x-python",
   "name": "python",
   "nbconvert_exporter": "python",
   "pygments_lexer": "ipython3",
   "version": "3.7.3"
  }
 },
 "nbformat": 4,
 "nbformat_minor": 2
}
